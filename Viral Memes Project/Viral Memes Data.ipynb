{
 "cells": [
  {
   "cell_type": "code",
   "execution_count": 76,
   "metadata": {},
   "outputs": [
    {
     "data": {
      "text/plain": [
       "<sqlite3.Cursor at 0x2506e711730>"
      ]
     },
     "execution_count": 76,
     "metadata": {},
     "output_type": "execute_result"
    }
   ],
   "source": [
    "import json\n",
    "import sqlite3\n",
    "\n",
    "#read files and store data in aproriate lists, store strings into variable to hold for later sorting\n",
    "texts = [\"follower_gcc.anony.dat\", \"retweet_gcc.anony.dat\", \"mention_gcc.anony.dat\", \"timeline_tag.anony.dat\", \n",
    "         \"timeline_tag_rt.anony.dat\", \"timeline_tag_men.anony.dat\"]\n",
    "followerwords = []\n",
    "retweetwords = []\n",
    "mentionwords = []\n",
    "tagwords = []\n",
    "tagrtwords = []\n",
    "tagmenwords = []\n",
    "data = [followerwords, retweetwords, mentionwords, tagwords, tagrtwords, tagmenwords]\n",
    "\n",
    "#loop through all texts and gather words for later sorting\n",
    "count = 0\n",
    "for text in texts:\n",
    "    tempread = open(text, \"r\", encoding='UTF8') \n",
    "    data[count] = tempread.readlines()\n",
    "    tempread.close()\n",
    "    count += 1\n",
    "\n",
    "#create empty table for later storage\n",
    "tweetData = 'virality1.sqlite'\n",
    "con = sqlite3.connect(tweetData)\n",
    "\n",
    "cur = con.cursor()\n",
    "cur.executescript('DROP TABLE IF EXISTS followers')\n",
    "cur.executescript('DROP TABLE IF EXISTS retweets')\n",
    "cur.executescript('DROP TABLE IF EXISTS mentions')\n",
    "cur.executescript('DROP TABLE IF EXISTS tags')\n",
    "cur.executescript('DROP TABLE IF EXISTS tagretweets')\n",
    "cur.executescript('DROP TABLE IF EXISTS tagmentions')\n",
    "\n",
    "cur.executescript(\"\"\"CREATE TABLE followers\n",
    "                    (id INTEGER PRIMARY KEY,\n",
    "                    user1 TEXT,\n",
    "                    user2 TEXT);\"\"\")\n",
    "\n",
    "cur.executescript(\"\"\"CREATE TABLE retweets\n",
    "                    (id INTEGER PRIMARY KEY,\n",
    "                    user1 TEXT,\n",
    "                    user2 TEXT,\n",
    "                    weight INTEGER);\"\"\")\n",
    "\n",
    "cur.executescript(\"\"\"CREATE TABLE mentions\n",
    "                    (id INTEGER PRIMARY KEY,\n",
    "                    user1 TEXT,\n",
    "                    user2 TEXT,\n",
    "                    weight INTEGER);\"\"\")\n",
    "\n",
    "cur.executescript(\"\"\"CREATE TABLE tags\n",
    "                    (id INTEGER PRIMARY KEY,\n",
    "                    hashtag TEXT,\n",
    "                    occurences TEXT);\"\"\")\n",
    "\n",
    "cur.executescript(\"\"\"CREATE TABLE tagretweets\n",
    "                    (id INTEGER PRIMARY KEY,\n",
    "                    hashtag TEXT,\n",
    "                    retweets INTEGER);\"\"\")\n",
    "\n",
    "cur.executescript(\"\"\"CREATE TABLE tagmentions\n",
    "                    (id INTEGER PRIMARY KEY,\n",
    "                    hashtag TEXT,\n",
    "                    mentions INTEGER);\"\"\")\n"
   ]
  },
  {
   "cell_type": "code",
   "execution_count": 75,
   "metadata": {},
   "outputs": [
    {
     "ename": "KeyboardInterrupt",
     "evalue": "",
     "output_type": "error",
     "traceback": [
      "\u001b[1;31m---------------------------------------------------------------------------\u001b[0m",
      "\u001b[1;31mKeyboardInterrupt\u001b[0m                         Traceback (most recent call last)",
      "\u001b[1;32m<ipython-input-75-88b600e11cb8>\u001b[0m in \u001b[0;36m<module>\u001b[1;34m\u001b[0m\n\u001b[0;32m     19\u001b[0m             \u001b[1;31m#commit column\u001b[0m\u001b[1;33m\u001b[0m\u001b[1;33m\u001b[0m\u001b[1;33m\u001b[0m\u001b[0m\n\u001b[0;32m     20\u001b[0m             \u001b[0mcur\u001b[0m\u001b[1;33m.\u001b[0m\u001b[0mexecute\u001b[0m\u001b[1;33m(\u001b[0m\u001b[1;34m'INSERT INTO tags(hashtag, occurences) VALUES (? , ?)'\u001b[0m\u001b[1;33m,\u001b[0m \u001b[1;33m(\u001b[0m\u001b[0mtemplist\u001b[0m\u001b[1;33m[\u001b[0m\u001b[1;36m0\u001b[0m\u001b[1;33m]\u001b[0m\u001b[1;33m,\u001b[0m \u001b[0mocc\u001b[0m\u001b[1;33m)\u001b[0m\u001b[1;33m)\u001b[0m\u001b[1;33m\u001b[0m\u001b[1;33m\u001b[0m\u001b[0m\n\u001b[1;32m---> 21\u001b[1;33m             \u001b[0mcon\u001b[0m\u001b[1;33m.\u001b[0m\u001b[0mcommit\u001b[0m\u001b[1;33m(\u001b[0m\u001b[1;33m)\u001b[0m\u001b[1;33m\u001b[0m\u001b[1;33m\u001b[0m\u001b[0m\n\u001b[0m\u001b[0;32m     22\u001b[0m \u001b[1;33m\u001b[0m\u001b[0m\n\u001b[0;32m     23\u001b[0m \u001b[1;33m\u001b[0m\u001b[0m\n",
      "\u001b[1;31mKeyboardInterrupt\u001b[0m: "
     ]
    }
   ],
   "source": [
    "#clean data by removing non alphanumeric characters and sort data appropriately\n",
    "#count number references repective datatable\n",
    "count = 0\n",
    "\n",
    "while count < 6:\n",
    "    #grab list of lines from[count]\n",
    "    table = data[count]\n",
    "    \n",
    "    #follower data\n",
    "    if count == 4:\n",
    "        for line in table:\n",
    "            templist = line.split()\n",
    "            \n",
    "            #count remaing strings to represent number of times hashtag was used\n",
    "            occ = 0\n",
    "            for rest in templist:\n",
    "                occ += 1\n",
    "            \n",
    "            #commit column\n",
    "            cur.execute('INSERT INTO tags(hashtag, occurences) VALUES (? , ?)', (templist[0], occ))\n",
    "            con.commit()\n",
    "            \n",
    "        \n",
    "    count += 1\n",
    "\n",
    "        #word = ''.join(e for e in word if e.isalnum())\n",
    "            \n",
    "print(\"done\")"
   ]
  },
  {
   "cell_type": "code",
   "execution_count": null,
   "metadata": {},
   "outputs": [],
   "source": []
  }
 ],
 "metadata": {
  "kernelspec": {
   "display_name": "Python 3",
   "language": "python",
   "name": "python3"
  },
  "language_info": {
   "codemirror_mode": {
    "name": "ipython",
    "version": 3
   },
   "file_extension": ".py",
   "mimetype": "text/x-python",
   "name": "python",
   "nbconvert_exporter": "python",
   "pygments_lexer": "ipython3",
   "version": "3.7.4"
  }
 },
 "nbformat": 4,
 "nbformat_minor": 2
}
